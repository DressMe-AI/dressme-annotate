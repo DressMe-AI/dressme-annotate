{
 "cells": [
  {
   "cell_type": "code",
   "execution_count": null,
   "id": "98b292cd",
   "metadata": {},
   "outputs": [],
   "source": [
    "import os\n",
    "import random\n",
    "from PIL import Image as PILImage\n",
    "from IPython.display import display\n",
    "\n",
    "image_folder = \"./data/images\"\n",
    "output_file = \"./data/combination_scored.txt\""
   ]
  },
  {
   "cell_type": "markdown",
   "id": "b108af38",
   "metadata": {},
   "source": [
    "# Pull contents and the scoring sheet"
   ]
  },
  {
   "cell_type": "code",
   "execution_count": null,
   "id": "e50ce319",
   "metadata": {},
   "outputs": [],
   "source": [
    "# Get list of top and bottom image filenames\n",
    "top_images = sorted([f for f in os.listdir(image_folder) if f.startswith('top_') and f.endswith('.jpeg')])\n",
    "bottom_images = sorted([f for f in os.listdir(image_folder) if f.startswith('bottom_') and f.endswith('.jpeg')])\n",
    "\n",
    "# Track used pairs to avoid duplicates\n",
    "shown_pairs = set()\n",
    "\n",
    "# Load previously logged pairs from file if it exists\n",
    "if os.path.exists(output_file):\n",
    "    with open(output_file, \"r\") as f:\n",
    "        for line in f:\n",
    "            line = line.strip()\n",
    "            if not line:\n",
    "                continue\n",
    "            parts = line.split(\",\")\n",
    "            top_part = parts[0].split(\":\")[1]\n",
    "            bottom_part = parts[1].split(\":\")[1]\n",
    "            shown_pairs.add((top_part, bottom_part))"
   ]
  },
  {
   "cell_type": "markdown",
   "id": "5aa5c0a0",
   "metadata": {},
   "source": [
    "# Func for data collection"
   ]
  },
  {
   "cell_type": "code",
   "execution_count": null,
   "id": "ffdb9aa9",
   "metadata": {},
   "outputs": [],
   "source": [
    "def show_pair_and_log():\n",
    "    while len(shown_pairs) < len(top_images) * len(bottom_images):\n",
    "        top = random.choice(top_images)\n",
    "        bottom = random.choice(bottom_images)\n",
    "        pair_key = (top, bottom)\n",
    "\n",
    "        if pair_key in shown_pairs:\n",
    "            continue  # Skip if already shown\n",
    "\n",
    "        top_id = top.replace(\".jpeg\", \"\")\n",
    "        bottom_id = bottom.replace(\".jpeg\", \"\")\n",
    "        print(f\"\\nRecommendation: top:{top_id}, bottom:{bottom_id}\")\n",
    "\n",
    "        try:\n",
    "            img_top = PILImage.open(os.path.join(image_folder, top))\n",
    "            img_top.thumbnail((300, 300))  # Max width/height\n",
    "            img_top = img_top.rotate(-90, expand=True)\n",
    "            display(img_top)\n",
    "\n",
    "            img_bottom = PILImage.open(os.path.join(image_folder, bottom))\n",
    "            img_bottom.thumbnail((300, 300))\n",
    "            img_bottom = img_bottom.rotate(-90, expand=True)\n",
    "            display(img_bottom)\n",
    "\n",
    "        except Exception as e:\n",
    "            print(f\"Failed to load/display image pair {top}, {bottom}: {e}\")\n",
    "            continue\n",
    "\n",
    "        while True:\n",
    "          try:\n",
    "              feedback_input = input(\"Rate this combination (1 for good, 0 for bad, q to quit): \").strip()\n",
    "              if feedback_input == \"q\":\n",
    "                  print(\"Exiting by user request.\")\n",
    "                  return  # ends the function\n",
    "              feedback = int(feedback_input)\n",
    "              if feedback in [0, 1]:\n",
    "                  break\n",
    "              print(\"Invalid input. Please enter 1, 0, or q.\")\n",
    "          except ValueError:\n",
    "              print(\"Please enter a numeric value or 'q' to quit.\")\n",
    "\n",
    "        with open(output_file, \"a\") as f:\n",
    "            f.write(f\"top:{top_id},bottom:{bottom_id},{feedback}\\n\")\n",
    "\n",
    "        shown_pairs.add(pair_key)\n",
    "        print(\"Saved feedback. Showing next...\\n\")\n",
    "\n",
    "    print(\"All unique combinations have been shown.\")\n",
    "\n"
   ]
  },
  {
   "cell_type": "markdown",
   "id": "618c8970",
   "metadata": {},
   "source": [
    "# Run below to collect user data"
   ]
  },
  {
   "cell_type": "code",
   "execution_count": null,
   "id": "b731af46",
   "metadata": {},
   "outputs": [],
   "source": [
    "#Run this after running everything above on Jupyter Notebook.\n",
    "show_pair_and_log()"
   ]
  },
  {
   "cell_type": "code",
   "execution_count": null,
   "id": "71c0fe9b",
   "metadata": {},
   "outputs": [],
   "source": []
  },
  {
   "cell_type": "code",
   "execution_count": null,
   "id": "c4e0d3c7",
   "metadata": {},
   "outputs": [],
   "source": []
  },
  {
   "cell_type": "code",
   "execution_count": null,
   "id": "db97c2af",
   "metadata": {},
   "outputs": [],
   "source": []
  },
  {
   "cell_type": "code",
   "execution_count": null,
   "id": "1601497c",
   "metadata": {},
   "outputs": [],
   "source": []
  }
 ],
 "metadata": {
  "kernelspec": {
   "display_name": "Python (nts-test)",
   "language": "python",
   "name": "nts-test"
  },
  "language_info": {
   "codemirror_mode": {
    "name": "ipython",
    "version": 3
   },
   "file_extension": ".py",
   "mimetype": "text/x-python",
   "name": "python",
   "nbconvert_exporter": "python",
   "pygments_lexer": "ipython3",
   "version": "3.12.9"
  }
 },
 "nbformat": 4,
 "nbformat_minor": 5
}
